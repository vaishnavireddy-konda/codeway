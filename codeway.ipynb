{
  "nbformat": 4,
  "nbformat_minor": 0,
  "metadata": {
    "colab": {
      "provenance": [],
      "authorship_tag": "ABX9TyMuXf9asynzfr8yxAbcSqV9",
      "include_colab_link": true
    },
    "kernelspec": {
      "name": "python3",
      "display_name": "Python 3"
    },
    "language_info": {
      "name": "python"
    }
  },
  "cells": [
    {
      "cell_type": "markdown",
      "metadata": {
        "id": "view-in-github",
        "colab_type": "text"
      },
      "source": [
        "<a href=\"https://colab.research.google.com/github/vaishnavireddy-konda/codeway/blob/main/codeway.ipynb\" target=\"_parent\"><img src=\"https://colab.research.google.com/assets/colab-badge.svg\" alt=\"Open In Colab\"/></a>"
      ]
    },
    {
      "cell_type": "markdown",
      "source": [
        "# simple calculator"
      ],
      "metadata": {
        "id": "zXpn76T3VqtE"
      }
    },
    {
      "cell_type": "code",
      "source": [
        "import tkinter as tk\n",
        "\n",
        "def calculate():\n",
        "    num1 = float(entry_num1.get())\n",
        "    num2 = float(entry_num2.get())\n",
        "    operation = operation_var.get()\n",
        "\n",
        "    if operation == \"Add\":\n",
        "        result = num1 + num2\n",
        "    elif operation == \"Subtract\":\n",
        "        result = num1 - num2\n",
        "    elif operation == \"Multiply\":\n",
        "        result = num1 * num2\n",
        "    elif operation == \"Divide\":\n",
        "        if num2 == 0:\n",
        "            result = \"Cannot divide by zero!\"\n",
        "        else:\n",
        "            result = num1 / num2\n",
        "\n",
        "    result_label.config(text=\"Result: \" + str(result))\n",
        "\n",
        "root = tk.Tk()\n",
        "root.title(\"Simple Calculator\")\n",
        "root.configure(bg=\"red\")\n",
        "\n",
        "\n",
        "entry_num1 = tk.Entry(root, width=10)\n",
        "entry_num1.grid(row=0, column=0, padx=5, pady=5)\n",
        "\n",
        "operation_var = tk.StringVar(root)\n",
        "operation_var.set(\"Add\")\n",
        "operation_menu = tk.OptionMenu(root, operation_var, \"Add\", \"Subtract\", \"Multiply\", \"Divide\")\n",
        "operation_menu.grid(row=0, column=1, padx=5, pady=5)\n",
        "\n",
        "entry_num2 = tk.Entry(root, width=10)\n",
        "entry_num2.grid(row=0, column=2, padx=5, pady=5)\n",
        "\n",
        "result_label = tk.Label(root, text=\"Result: \", bg=\"#f0f0f0\")\n",
        "result_label.grid(row=1, columnspan=3, padx=5, pady=5)\n",
        "\n",
        "calculate_button = tk.Button(root, text=\"Calculate\", command=calculate, width=20, bg=\"#008080\", fg=\"white\")\n",
        "calculate_button.grid(row=2, columnspan=3, padx=5, pady=5)\n",
        "\n",
        "root.mainloop()\n"
      ],
      "metadata": {
        "id": "Zo6QncwXVSxH"
      },
      "execution_count": null,
      "outputs": []
    },
    {
      "cell_type": "markdown",
      "source": [
        "# PASSWORD GENERATOR"
      ],
      "metadata": {
        "id": "z3ID24QgZpPP"
      }
    },
    {
      "cell_type": "code",
      "source": [
        "import tkinter as tk\n",
        "import random\n",
        "import string\n",
        "\n",
        "def generate_password():\n",
        "    try:\n",
        "        length = int(entry_length.get())\n",
        "        if length <= 0:\n",
        "            result_label.config(text=\"Please enter a positive integer for the password length.\")\n",
        "            return\n",
        "        characters = string.ascii_letters + string.digits + string.punctuation\n",
        "        password = ''.join(random.choice(characters) for _ in range(length))\n",
        "        result_label.config(text=\"Generated Password: \" + password)\n",
        "    except ValueError:\n",
        "        result_label.config(text=\"Please enter a valid integer for the password length.\")\n",
        "\n",
        "root = tk.Tk()\n",
        "root.title(\"Password Generator\")\n",
        "root.configure(bg=\"red\")\n",
        "\n",
        "# Create input fields and labels\n",
        "length_label = tk.Label(root, text=\"Enter password length:\",bg=\"#008080\",fg=\"white\")\n",
        "length_label.grid(row=0, column=0, padx=5, pady=5)\n",
        "\n",
        "entry_length = tk.Entry(root, width=10)\n",
        "entry_length.grid(row=0, column=1, padx=5, pady=5)\n",
        "\n",
        "generate_button = tk.Button(root, text=\"Generate Password\", command=generate_password, bg=\"#008080\", fg=\"white\")\n",
        "generate_button.grid(row=1, columnspan=2, padx=5, pady=5)\n",
        "\n",
        "result_label = tk.Label(root, text=\"\", bg=\"#f0f0f0\")\n",
        "result_label.grid(row=2, columnspan=2, padx=5, pady=5)\n",
        "\n",
        "root.mainloop()\n",
        "\n"
      ],
      "metadata": {
        "id": "E_HAA2EEVxu3"
      },
      "execution_count": null,
      "outputs": []
    },
    {
      "cell_type": "markdown",
      "source": [
        "# DO-LIST Application"
      ],
      "metadata": {
        "id": "rh4LSS1OZwjk"
      }
    },
    {
      "cell_type": "code",
      "source": [
        "import tkinter as tk\n",
        "from tkinter import messagebox\n",
        "\n",
        "class TodoListApp:\n",
        "    def __init__(self, master):\n",
        "        self.master = master\n",
        "        self.master.title(\"To-Do List Application\")\n",
        "        self.master.geometry(\"400x300\")\n",
        "\n",
        "        self.tasks = []\n",
        "\n",
        "        self.task_entry = tk.Entry(master, width=40)\n",
        "        self.task_entry.grid(row=0, column=0, padx=10, pady=10)\n",
        "\n",
        "        self.add_button = tk.Button(master, text=\"Add Task\", command=self.add_task)\n",
        "        self.add_button.grid(row=0, column=1, padx=5, pady=10)\n",
        "\n",
        "        self.task_listbox = tk.Listbox(master, width=50, height=15)\n",
        "        self.task_listbox.grid(row=1, column=0, columnspan=2, padx=10, pady=5)\n",
        "\n",
        "        self.delete_button = tk.Button(master, text=\"Delete Task\", command=self.delete_task)\n",
        "        self.delete_button.grid(row=2, column=0, padx=5, pady=10)\n",
        "\n",
        "        self.clear_button = tk.Button(master, text=\"Clear All\", command=self.clear_all_tasks)\n",
        "        self.clear_button.grid(row=2, column=1, padx=5, pady=10)\n",
        "\n",
        "    def add_task(self):\n",
        "        task = self.task_entry.get().strip()\n",
        "        if task:\n",
        "            self.tasks.append(task)\n",
        "            self.update_task_listbox()\n",
        "            self.task_entry.delete(0, tk.END)\n",
        "        else:\n",
        "            messagebox.showwarning(\"Warning\", \"Please enter a task!\")\n",
        "\n",
        "    def update_task_listbox(self):\n",
        "        self.task_listbox.delete(0, tk.END)\n",
        "        for task in self.tasks:\n",
        "            self.task_listbox.insert(tk.END, task)\n",
        "\n",
        "    def delete_task(self):\n",
        "        try:\n",
        "            index = self.task_listbox.curselection()[0]\n",
        "            self.tasks.pop(index)\n",
        "            self.update_task_listbox()\n",
        "        except IndexError:\n",
        "            messagebox.showwarning(\"Warning\", \"Please select a task to delete!\")\n",
        "\n",
        "    def clear_all_tasks(self):\n",
        "        if messagebox.askyesno(\"Confirmation\", \"Are you sure you want to clear all tasks?\"):\n",
        "            self.tasks.clear()\n",
        "            self.update_task_listbox()\n",
        "\n",
        "\n",
        "root = tk.Tk()\n",
        "app = TodoListApp(root)\n",
        "root.mainloop()\n"
      ],
      "metadata": {
        "id": "efbJBzdxZQ4g"
      },
      "execution_count": null,
      "outputs": []
    }
  ]
}